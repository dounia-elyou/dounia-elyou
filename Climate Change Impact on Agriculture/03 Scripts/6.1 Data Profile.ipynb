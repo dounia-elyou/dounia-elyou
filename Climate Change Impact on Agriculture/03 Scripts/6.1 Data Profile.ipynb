{
 "cells": [
  {
   "cell_type": "markdown",
   "id": "a38164ba-d4bf-4ad8-9a5c-33c1f1321ea7",
   "metadata": {},
   "source": [
    "# Importing Libraries"
   ]
  },
  {
   "cell_type": "code",
   "execution_count": 3,
   "id": "d71d6e99-3dae-4942-9ff1-30171f2a3402",
   "metadata": {},
   "outputs": [],
   "source": [
    "# Import libraries\n",
    "import pandas as pd\n",
    "import numpy as np\n",
    "import os"
   ]
  },
  {
   "cell_type": "markdown",
   "id": "13c916cc-6bab-44d4-a9ae-f84a3150190a",
   "metadata": {},
   "source": [
    "# Importing The DataSet"
   ]
  },
  {
   "cell_type": "code",
   "execution_count": 9,
   "id": "b76cf78e-b798-4c27-a861-43cec8b66d44",
   "metadata": {},
   "outputs": [],
   "source": [
    "# Creating a string of the path\n",
    "# Define the path variable\n",
    "path = r'/Users/douniaelyoussoufi/Achievement 6'\n",
    "# Load the dataset file directly using os.path.join\n",
    "df = pd.read_csv(os.path.join(path, '02 Data', 'Original Data', 'climate_change_impact_on_agriculture_2024.csv'))"
   ]
  },
  {
   "cell_type": "markdown",
   "id": "89e58ac7-a463-46b1-b5cf-4252ec761794",
   "metadata": {},
   "source": [
    "# Display the first five rows of the Orders Data"
   ]
  },
  {
   "cell_type": "code",
   "execution_count": 12,
   "id": "62db32b0-4487-4dd0-9213-a225d62c71df",
   "metadata": {},
   "outputs": [
    {
     "data": {
      "text/html": [
       "<div>\n",
       "<style scoped>\n",
       "    .dataframe tbody tr th:only-of-type {\n",
       "        vertical-align: middle;\n",
       "    }\n",
       "\n",
       "    .dataframe tbody tr th {\n",
       "        vertical-align: top;\n",
       "    }\n",
       "\n",
       "    .dataframe thead th {\n",
       "        text-align: right;\n",
       "    }\n",
       "</style>\n",
       "<table border=\"1\" class=\"dataframe\">\n",
       "  <thead>\n",
       "    <tr style=\"text-align: right;\">\n",
       "      <th></th>\n",
       "      <th>Year</th>\n",
       "      <th>Country</th>\n",
       "      <th>Region</th>\n",
       "      <th>Crop_Type</th>\n",
       "      <th>Average_Temperature_C</th>\n",
       "      <th>Total_Precipitation_mm</th>\n",
       "      <th>CO2_Emissions_MT</th>\n",
       "      <th>Crop_Yield_MT_per_HA</th>\n",
       "      <th>Extreme_Weather_Events</th>\n",
       "      <th>Irrigation_Access_%</th>\n",
       "      <th>Pesticide_Use_KG_per_HA</th>\n",
       "      <th>Fertilizer_Use_KG_per_HA</th>\n",
       "      <th>Soil_Health_Index</th>\n",
       "      <th>Adaptation_Strategies</th>\n",
       "      <th>Economic_Impact_Million_USD</th>\n",
       "    </tr>\n",
       "  </thead>\n",
       "  <tbody>\n",
       "    <tr>\n",
       "      <th>0</th>\n",
       "      <td>2001</td>\n",
       "      <td>India</td>\n",
       "      <td>West Bengal</td>\n",
       "      <td>Corn</td>\n",
       "      <td>1.55</td>\n",
       "      <td>447.06</td>\n",
       "      <td>15.22</td>\n",
       "      <td>1.737</td>\n",
       "      <td>8</td>\n",
       "      <td>14.54</td>\n",
       "      <td>10.08</td>\n",
       "      <td>14.78</td>\n",
       "      <td>83.25</td>\n",
       "      <td>Water Management</td>\n",
       "      <td>808.13</td>\n",
       "    </tr>\n",
       "    <tr>\n",
       "      <th>1</th>\n",
       "      <td>2024</td>\n",
       "      <td>China</td>\n",
       "      <td>North</td>\n",
       "      <td>Corn</td>\n",
       "      <td>3.23</td>\n",
       "      <td>2913.57</td>\n",
       "      <td>29.82</td>\n",
       "      <td>1.737</td>\n",
       "      <td>8</td>\n",
       "      <td>11.05</td>\n",
       "      <td>33.06</td>\n",
       "      <td>23.25</td>\n",
       "      <td>54.02</td>\n",
       "      <td>Crop Rotation</td>\n",
       "      <td>616.22</td>\n",
       "    </tr>\n",
       "    <tr>\n",
       "      <th>2</th>\n",
       "      <td>2001</td>\n",
       "      <td>France</td>\n",
       "      <td>Ile-de-France</td>\n",
       "      <td>Wheat</td>\n",
       "      <td>21.11</td>\n",
       "      <td>1301.74</td>\n",
       "      <td>25.75</td>\n",
       "      <td>1.719</td>\n",
       "      <td>5</td>\n",
       "      <td>84.42</td>\n",
       "      <td>27.41</td>\n",
       "      <td>65.53</td>\n",
       "      <td>67.78</td>\n",
       "      <td>Water Management</td>\n",
       "      <td>796.96</td>\n",
       "    </tr>\n",
       "    <tr>\n",
       "      <th>3</th>\n",
       "      <td>2001</td>\n",
       "      <td>Canada</td>\n",
       "      <td>Prairies</td>\n",
       "      <td>Coffee</td>\n",
       "      <td>27.85</td>\n",
       "      <td>1154.36</td>\n",
       "      <td>13.91</td>\n",
       "      <td>3.890</td>\n",
       "      <td>5</td>\n",
       "      <td>94.06</td>\n",
       "      <td>14.38</td>\n",
       "      <td>87.58</td>\n",
       "      <td>91.39</td>\n",
       "      <td>No Adaptation</td>\n",
       "      <td>790.32</td>\n",
       "    </tr>\n",
       "    <tr>\n",
       "      <th>4</th>\n",
       "      <td>1998</td>\n",
       "      <td>India</td>\n",
       "      <td>Tamil Nadu</td>\n",
       "      <td>Sugarcane</td>\n",
       "      <td>2.19</td>\n",
       "      <td>1627.48</td>\n",
       "      <td>11.81</td>\n",
       "      <td>1.080</td>\n",
       "      <td>9</td>\n",
       "      <td>95.75</td>\n",
       "      <td>44.35</td>\n",
       "      <td>88.08</td>\n",
       "      <td>49.61</td>\n",
       "      <td>Crop Rotation</td>\n",
       "      <td>401.72</td>\n",
       "    </tr>\n",
       "  </tbody>\n",
       "</table>\n",
       "</div>"
      ],
      "text/plain": [
       "   Year Country         Region  Crop_Type  Average_Temperature_C  \\\n",
       "0  2001   India    West Bengal       Corn                   1.55   \n",
       "1  2024   China          North       Corn                   3.23   \n",
       "2  2001  France  Ile-de-France      Wheat                  21.11   \n",
       "3  2001  Canada       Prairies     Coffee                  27.85   \n",
       "4  1998   India     Tamil Nadu  Sugarcane                   2.19   \n",
       "\n",
       "   Total_Precipitation_mm  CO2_Emissions_MT  Crop_Yield_MT_per_HA  \\\n",
       "0                  447.06             15.22                 1.737   \n",
       "1                 2913.57             29.82                 1.737   \n",
       "2                 1301.74             25.75                 1.719   \n",
       "3                 1154.36             13.91                 3.890   \n",
       "4                 1627.48             11.81                 1.080   \n",
       "\n",
       "   Extreme_Weather_Events  Irrigation_Access_%  Pesticide_Use_KG_per_HA  \\\n",
       "0                       8                14.54                    10.08   \n",
       "1                       8                11.05                    33.06   \n",
       "2                       5                84.42                    27.41   \n",
       "3                       5                94.06                    14.38   \n",
       "4                       9                95.75                    44.35   \n",
       "\n",
       "   Fertilizer_Use_KG_per_HA  Soil_Health_Index Adaptation_Strategies  \\\n",
       "0                     14.78              83.25      Water Management   \n",
       "1                     23.25              54.02         Crop Rotation   \n",
       "2                     65.53              67.78      Water Management   \n",
       "3                     87.58              91.39         No Adaptation   \n",
       "4                     88.08              49.61         Crop Rotation   \n",
       "\n",
       "   Economic_Impact_Million_USD  \n",
       "0                       808.13  \n",
       "1                       616.22  \n",
       "2                       796.96  \n",
       "3                       790.32  \n",
       "4                       401.72  "
      ]
     },
     "execution_count": 12,
     "metadata": {},
     "output_type": "execute_result"
    }
   ],
   "source": [
    "df.head()"
   ]
  },
  {
   "cell_type": "markdown",
   "id": "fc4200c1-4c3d-42aa-b147-ea8c92ea80bc",
   "metadata": {},
   "source": [
    "# Standardise column names: \n",
    "- Convert all column names to lowercase.\n",
    "- Remove spaces and replace with underscores (_).\n",
    "This step improves readability, especially when working with data programmatically."
   ]
  },
  {
   "cell_type": "code",
   "execution_count": 15,
   "id": "e7d14859-c544-4f53-9816-0b60b28f3226",
   "metadata": {},
   "outputs": [
    {
     "data": {
      "text/plain": [
       "Index(['year', 'country', 'region', 'crop_type', 'average_temperature_c',\n",
       "       'total_precipitation_mm', 'co2_emissions_mt', 'crop_yield_mt_per_ha',\n",
       "       'extreme_weather_events', 'irrigation_access_%',\n",
       "       'pesticide_use_kg_per_ha', 'fertilizer_use_kg_per_ha',\n",
       "       'soil_health_index', 'adaptation_strategies',\n",
       "       'economic_impact_million_usd'],\n",
       "      dtype='object')"
      ]
     },
     "execution_count": 15,
     "metadata": {},
     "output_type": "execute_result"
    }
   ],
   "source": [
    "# Convert columns to lowercase and remove spaces\n",
    "df.columns = df.columns.str.lower().str.replace(' ', '_')\n",
    "# Preview the updated column names\n",
    "df.columns"
   ]
  },
  {
   "cell_type": "markdown",
   "id": "4d5562fd-5e58-4ac2-b463-d700de7fd017",
   "metadata": {},
   "source": [
    "# Check the data types"
   ]
  },
  {
   "cell_type": "code",
   "execution_count": 20,
   "id": "bd00ae1e-92a9-43a5-a308-f15f207769da",
   "metadata": {},
   "outputs": [
    {
     "data": {
      "text/plain": [
       "year                             int64\n",
       "country                         object\n",
       "region                          object\n",
       "crop_type                       object\n",
       "average_temperature_c          float64\n",
       "total_precipitation_mm         float64\n",
       "co2_emissions_mt               float64\n",
       "crop_yield_mt_per_ha           float64\n",
       "extreme_weather_events           int64\n",
       "irrigation_access_%            float64\n",
       "pesticide_use_kg_per_ha        float64\n",
       "fertilizer_use_kg_per_ha       float64\n",
       "soil_health_index              float64\n",
       "adaptation_strategies           object\n",
       "economic_impact_million_usd    float64\n",
       "dtype: object"
      ]
     },
     "execution_count": 20,
     "metadata": {},
     "output_type": "execute_result"
    }
   ],
   "source": [
    "df.dtypes"
   ]
  },
  {
   "cell_type": "markdown",
   "id": "5af165ef-2172-4250-b354-04731990a207",
   "metadata": {},
   "source": [
    "Convert categorical columns to 'category' type to optimise memory usage and improve performance\n",
    "'category' type is more efficient than 'object' for columns with a limited number of unique values (e.g., country, region, etc.)"
   ]
  },
  {
   "cell_type": "code",
   "execution_count": 24,
   "id": "a6c8a822-50a8-4eea-ae36-cb8d35f7c94f",
   "metadata": {},
   "outputs": [],
   "source": [
    "df['country'] = df['country'].astype('category')  # 'country' column is categorical, so converting to 'category' type.\n",
    "df['region'] = df['region'].astype('category')    # 'region' column is categorical, so converting to 'category' type.\n",
    "df['crop_type'] = df['crop_type'].astype('category')  # 'crop_type' column is categorical, so converting to 'category' type.\n",
    "df['adaptation_strategies'] = df['adaptation_strategies'].astype('category')  # 'adaptation_strategies' column is categorical, so converting to 'category' type."
   ]
  },
  {
   "cell_type": "markdown",
   "id": "a82d7901-de1b-4de0-ba0f-1e2d33d3f3a8",
   "metadata": {},
   "source": [
    "# Missing Values"
   ]
  },
  {
   "cell_type": "code",
   "execution_count": 28,
   "id": "c3866cd1-1abc-4f11-aec1-1f0bb4061f98",
   "metadata": {},
   "outputs": [
    {
     "data": {
      "text/plain": [
       "year                           0\n",
       "country                        0\n",
       "region                         0\n",
       "crop_type                      0\n",
       "average_temperature_c          0\n",
       "total_precipitation_mm         0\n",
       "co2_emissions_mt               0\n",
       "crop_yield_mt_per_ha           0\n",
       "extreme_weather_events         0\n",
       "irrigation_access_%            0\n",
       "pesticide_use_kg_per_ha        0\n",
       "fertilizer_use_kg_per_ha       0\n",
       "soil_health_index              0\n",
       "adaptation_strategies          0\n",
       "economic_impact_million_usd    0\n",
       "dtype: int64"
      ]
     },
     "execution_count": 28,
     "metadata": {},
     "output_type": "execute_result"
    }
   ],
   "source": [
    "# Checking for missing values in the dataset\n",
    "missing_values = df.isnull().sum()\n",
    "missing_values"
   ]
  },
  {
   "cell_type": "markdown",
   "id": "bb5c074a-27e7-45dd-89a5-c229a03f6117",
   "metadata": {},
   "source": [
    "# Duplicates"
   ]
  },
  {
   "cell_type": "code",
   "execution_count": 31,
   "id": "0600ae29-38cd-46d6-aae0-77140ad0eb7e",
   "metadata": {},
   "outputs": [
    {
     "data": {
      "text/plain": [
       "0"
      ]
     },
     "execution_count": 31,
     "metadata": {},
     "output_type": "execute_result"
    }
   ],
   "source": [
    "# Checking for duplicates\n",
    "duplicates = df.duplicated().sum()\n",
    "duplicates"
   ]
  },
  {
   "cell_type": "markdown",
   "id": "738cdfa4-efb7-4dc2-ae86-4ab25cf6ed7b",
   "metadata": {},
   "source": [
    "# Data Wrangling"
   ]
  },
  {
   "cell_type": "code",
   "execution_count": 37,
   "id": "6ccabc19-4f57-47f3-8b94-8c283ee650af",
   "metadata": {},
   "outputs": [
    {
     "data": {
      "text/plain": [
       "array([2001, 2024, 1998, 2019, 1997, 2021, 2012, 2018, 2006, 1993, 2003,\n",
       "       1999, 1990, 2017, 2015, 2000, 2016, 1996, 2010, 2002, 2011, 1995,\n",
       "       2004, 2008, 2005, 2020, 1994, 1991, 2022, 2007, 1992, 2013, 2023,\n",
       "       2014, 2009])"
      ]
     },
     "execution_count": 37,
     "metadata": {},
     "output_type": "execute_result"
    }
   ],
   "source": [
    "# Checking if the 'year' column contains valid values\n",
    "year_values = df['year'].unique()\n",
    "year_values"
   ]
  },
  {
   "cell_type": "code",
   "execution_count": 35,
   "id": "0be27bfd-1518-40dc-a97e-08a6f26189e5",
   "metadata": {},
   "outputs": [
    {
     "data": {
      "text/plain": [
       "year\n",
       "1999    335\n",
       "2019    317\n",
       "1991    314\n",
       "2012    313\n",
       "2004    307\n",
       "2013    305\n",
       "1994    305\n",
       "2001    300\n",
       "1996    295\n",
       "2023    294\n",
       "2015    294\n",
       "2016    293\n",
       "2008    293\n",
       "2021    292\n",
       "2002    289\n",
       "2022    288\n",
       "1997    287\n",
       "2003    285\n",
       "2009    285\n",
       "2000    284\n",
       "2024    281\n",
       "2010    281\n",
       "2014    281\n",
       "2020    278\n",
       "1995    277\n",
       "2017    275\n",
       "2005    275\n",
       "1992    274\n",
       "2011    273\n",
       "2018    272\n",
       "2007    262\n",
       "1993    257\n",
       "1990    250\n",
       "2006    250\n",
       "1998    239\n",
       "Name: count, dtype: int64"
      ]
     },
     "execution_count": 35,
     "metadata": {},
     "output_type": "execute_result"
    }
   ],
   "source": [
    "# Check the frequency of each year in the dataset\n",
    "year_counts = df['year'].value_counts()\n",
    "year_counts"
   ]
  },
  {
   "cell_type": "code",
   "execution_count": 41,
   "id": "d85b1a52-3c46-4814-9e80-e1f65e1035be",
   "metadata": {},
   "outputs": [
    {
     "data": {
      "text/plain": [
       "country\n",
       "Australia    1032\n",
       "USA          1032\n",
       "China        1031\n",
       "Nigeria      1029\n",
       "India        1025\n",
       "Argentina     984\n",
       "Canada        984\n",
       "France        978\n",
       "Russia        961\n",
       "Brazil        944\n",
       "Name: count, dtype: int64"
      ]
     },
     "execution_count": 41,
     "metadata": {},
     "output_type": "execute_result"
    }
   ],
   "source": [
    "# Check the value counts of the 'country' column\n",
    "df['country'].value_counts()"
   ]
  },
  {
   "cell_type": "code",
   "execution_count": 43,
   "id": "87dd9fe7-21d8-45b3-9609-f09a5ff575f1",
   "metadata": {},
   "outputs": [
    {
     "data": {
      "text/plain": [
       "region\n",
       "South                         754\n",
       "Northeast                     752\n",
       "North                         524\n",
       "Central                       466\n",
       "Punjab                        288\n",
       "Victoria                      283\n",
       "New South Wales               276\n",
       "East                          273\n",
       "South West                    270\n",
       "Ontario                       269\n",
       "West Bengal                   267\n",
       "North West                    264\n",
       "Volga                         261\n",
       "South East                    260\n",
       "West                          257\n",
       "Grand Est                     254\n",
       "Midwest                       253\n",
       "Queensland                    253\n",
       "Nouvelle-Aquitaine            252\n",
       "Tamil Nadu                    249\n",
       "Patagonia                     249\n",
       "Northwest                     247\n",
       "Siberian                      246\n",
       "Prairies                      243\n",
       "British Columbia              242\n",
       "Provence-Alpes-Cote d’Azur    236\n",
       "Ile-de-France                 236\n",
       "North Central                 235\n",
       "Quebec                        230\n",
       "Northwestern                  227\n",
       "Pampas                        224\n",
       "Maharashtra                   221\n",
       "Western Australia             220\n",
       "Southeast                     219\n",
       "Name: count, dtype: int64"
      ]
     },
     "execution_count": 43,
     "metadata": {},
     "output_type": "execute_result"
    }
   ],
   "source": [
    "# Check the value counts of the 'region' column\n",
    "df['region'].value_counts()"
   ]
  },
  {
   "cell_type": "code",
   "execution_count": 55,
   "id": "1814f3ce-3df0-4a46-ac4e-d730a73b2e3c",
   "metadata": {},
   "outputs": [
    {
     "name": "stdout",
     "output_type": "stream",
     "text": [
      "Argentina: Northeast, Northwest, Pampas, Patagonia\n",
      "Australia: New South Wales, Victoria, Western Australia, Queensland\n",
      "Brazil: North, Northeast, Southeast, South\n",
      "Canada: Prairies, Quebec, Ontario, British Columbia\n",
      "China: North, East, South, Central\n",
      "France: Ile-de-France, Grand Est, Nouvelle-Aquitaine, Provence-Alpes-Cote d’Azur\n",
      "India: West Bengal, Tamil Nadu, Punjab, Maharashtra\n",
      "Nigeria: North West, South East, North Central, South West\n",
      "Russia: Northwestern, Siberian, Volga, Central\n",
      "USA: Midwest, Northeast, South, West\n"
     ]
    }
   ],
   "source": [
    "# Group by country and get unique regions with observed=True to avoid FutureWarning\n",
    "country_region_mapping = df.groupby('country', observed=True)['region'].unique()\n",
    "# Print the mapping in a readable format\n",
    "for country, regions in country_region_mapping.items():\n",
    "    print(f\"{country}: {', '.join(regions)}\")"
   ]
  },
  {
   "cell_type": "code",
   "execution_count": 57,
   "id": "527ea71d-0570-4685-8f7c-d2fe6114745d",
   "metadata": {},
   "outputs": [
    {
     "data": {
      "text/plain": [
       "crop_type\n",
       "Wheat         1047\n",
       "Cotton        1044\n",
       "Vegetables    1036\n",
       "Corn          1022\n",
       "Rice          1022\n",
       "Sugarcane      995\n",
       "Fruits         979\n",
       "Soybeans       958\n",
       "Barley         952\n",
       "Coffee         945\n",
       "Name: count, dtype: int64"
      ]
     },
     "execution_count": 57,
     "metadata": {},
     "output_type": "execute_result"
    }
   ],
   "source": [
    "# Checking the value counts of the crop_type column\n",
    "df['crop_type'].value_counts()"
   ]
  },
  {
   "cell_type": "code",
   "execution_count": 59,
   "id": "04f1cc47-ccd3-44c2-8bf8-f6271197e3bb",
   "metadata": {},
   "outputs": [
    {
     "data": {
      "text/plain": [
       "adaptation_strategies\n",
       "Water Management           2049\n",
       "No Adaptation              2024\n",
       "Drought-resistant Crops    1995\n",
       "Organic Farming            1975\n",
       "Crop Rotation              1957\n",
       "Name: count, dtype: int64"
      ]
     },
     "execution_count": 59,
     "metadata": {},
     "output_type": "execute_result"
    }
   ],
   "source": [
    "# Check the value counts of the 'adaptation_strategies' column\n",
    "df['adaptation_strategies'].value_counts()"
   ]
  },
  {
   "cell_type": "code",
   "execution_count": 61,
   "id": "8ad2f70d-d423-4f1f-bd2e-c56788d6d1bc",
   "metadata": {
    "scrolled": true
   },
   "outputs": [
    {
     "data": {
      "text/html": [
       "<div>\n",
       "<style scoped>\n",
       "    .dataframe tbody tr th:only-of-type {\n",
       "        vertical-align: middle;\n",
       "    }\n",
       "\n",
       "    .dataframe tbody tr th {\n",
       "        vertical-align: top;\n",
       "    }\n",
       "\n",
       "    .dataframe thead th {\n",
       "        text-align: right;\n",
       "    }\n",
       "</style>\n",
       "<table border=\"1\" class=\"dataframe\">\n",
       "  <thead>\n",
       "    <tr style=\"text-align: right;\">\n",
       "      <th></th>\n",
       "      <th>year</th>\n",
       "      <th>average_temperature_c</th>\n",
       "      <th>total_precipitation_mm</th>\n",
       "      <th>co2_emissions_mt</th>\n",
       "      <th>crop_yield_mt_per_ha</th>\n",
       "      <th>extreme_weather_events</th>\n",
       "      <th>irrigation_access_%</th>\n",
       "      <th>pesticide_use_kg_per_ha</th>\n",
       "      <th>fertilizer_use_kg_per_ha</th>\n",
       "      <th>soil_health_index</th>\n",
       "      <th>economic_impact_million_usd</th>\n",
       "    </tr>\n",
       "  </thead>\n",
       "  <tbody>\n",
       "    <tr>\n",
       "      <th>count</th>\n",
       "      <td>10000.000000</td>\n",
       "      <td>10000.000000</td>\n",
       "      <td>10000.000000</td>\n",
       "      <td>10000.000000</td>\n",
       "      <td>10000.000000</td>\n",
       "      <td>10000.000000</td>\n",
       "      <td>10000.000000</td>\n",
       "      <td>10000.000000</td>\n",
       "      <td>10000.000000</td>\n",
       "      <td>10000.000000</td>\n",
       "      <td>10000.000000</td>\n",
       "    </tr>\n",
       "    <tr>\n",
       "      <th>mean</th>\n",
       "      <td>2007.088700</td>\n",
       "      <td>15.241299</td>\n",
       "      <td>1611.663834</td>\n",
       "      <td>15.246608</td>\n",
       "      <td>2.240017</td>\n",
       "      <td>4.980900</td>\n",
       "      <td>55.248332</td>\n",
       "      <td>24.955735</td>\n",
       "      <td>49.973708</td>\n",
       "      <td>64.901278</td>\n",
       "      <td>674.269658</td>\n",
       "    </tr>\n",
       "    <tr>\n",
       "      <th>std</th>\n",
       "      <td>10.084245</td>\n",
       "      <td>11.466955</td>\n",
       "      <td>805.016815</td>\n",
       "      <td>8.589423</td>\n",
       "      <td>0.998342</td>\n",
       "      <td>3.165808</td>\n",
       "      <td>25.988305</td>\n",
       "      <td>14.490962</td>\n",
       "      <td>28.711027</td>\n",
       "      <td>20.195882</td>\n",
       "      <td>414.591431</td>\n",
       "    </tr>\n",
       "    <tr>\n",
       "      <th>min</th>\n",
       "      <td>1990.000000</td>\n",
       "      <td>-4.990000</td>\n",
       "      <td>200.150000</td>\n",
       "      <td>0.500000</td>\n",
       "      <td>0.450000</td>\n",
       "      <td>0.000000</td>\n",
       "      <td>10.010000</td>\n",
       "      <td>0.000000</td>\n",
       "      <td>0.010000</td>\n",
       "      <td>30.000000</td>\n",
       "      <td>47.840000</td>\n",
       "    </tr>\n",
       "    <tr>\n",
       "      <th>25%</th>\n",
       "      <td>1999.000000</td>\n",
       "      <td>5.430000</td>\n",
       "      <td>925.697500</td>\n",
       "      <td>7.760000</td>\n",
       "      <td>1.449000</td>\n",
       "      <td>2.000000</td>\n",
       "      <td>32.677500</td>\n",
       "      <td>12.527500</td>\n",
       "      <td>25.390000</td>\n",
       "      <td>47.235000</td>\n",
       "      <td>350.545000</td>\n",
       "    </tr>\n",
       "    <tr>\n",
       "      <th>50%</th>\n",
       "      <td>2007.000000</td>\n",
       "      <td>15.175000</td>\n",
       "      <td>1611.160000</td>\n",
       "      <td>15.200000</td>\n",
       "      <td>2.170000</td>\n",
       "      <td>5.000000</td>\n",
       "      <td>55.175000</td>\n",
       "      <td>24.930000</td>\n",
       "      <td>49.635000</td>\n",
       "      <td>64.650000</td>\n",
       "      <td>583.920000</td>\n",
       "    </tr>\n",
       "    <tr>\n",
       "      <th>75%</th>\n",
       "      <td>2016.000000</td>\n",
       "      <td>25.340000</td>\n",
       "      <td>2306.997500</td>\n",
       "      <td>22.820000</td>\n",
       "      <td>2.930000</td>\n",
       "      <td>8.000000</td>\n",
       "      <td>77.582500</td>\n",
       "      <td>37.470000</td>\n",
       "      <td>74.825000</td>\n",
       "      <td>82.472500</td>\n",
       "      <td>917.505000</td>\n",
       "    </tr>\n",
       "    <tr>\n",
       "      <th>max</th>\n",
       "      <td>2024.000000</td>\n",
       "      <td>35.000000</td>\n",
       "      <td>2999.670000</td>\n",
       "      <td>30.000000</td>\n",
       "      <td>5.000000</td>\n",
       "      <td>10.000000</td>\n",
       "      <td>99.990000</td>\n",
       "      <td>49.990000</td>\n",
       "      <td>99.990000</td>\n",
       "      <td>100.000000</td>\n",
       "      <td>2346.470000</td>\n",
       "    </tr>\n",
       "  </tbody>\n",
       "</table>\n",
       "</div>"
      ],
      "text/plain": [
       "               year  average_temperature_c  total_precipitation_mm  \\\n",
       "count  10000.000000           10000.000000            10000.000000   \n",
       "mean    2007.088700              15.241299             1611.663834   \n",
       "std       10.084245              11.466955              805.016815   \n",
       "min     1990.000000              -4.990000              200.150000   \n",
       "25%     1999.000000               5.430000              925.697500   \n",
       "50%     2007.000000              15.175000             1611.160000   \n",
       "75%     2016.000000              25.340000             2306.997500   \n",
       "max     2024.000000              35.000000             2999.670000   \n",
       "\n",
       "       co2_emissions_mt  crop_yield_mt_per_ha  extreme_weather_events  \\\n",
       "count      10000.000000          10000.000000            10000.000000   \n",
       "mean          15.246608              2.240017                4.980900   \n",
       "std            8.589423              0.998342                3.165808   \n",
       "min            0.500000              0.450000                0.000000   \n",
       "25%            7.760000              1.449000                2.000000   \n",
       "50%           15.200000              2.170000                5.000000   \n",
       "75%           22.820000              2.930000                8.000000   \n",
       "max           30.000000              5.000000               10.000000   \n",
       "\n",
       "       irrigation_access_%  pesticide_use_kg_per_ha  fertilizer_use_kg_per_ha  \\\n",
       "count         10000.000000             10000.000000              10000.000000   \n",
       "mean             55.248332                24.955735                 49.973708   \n",
       "std              25.988305                14.490962                 28.711027   \n",
       "min              10.010000                 0.000000                  0.010000   \n",
       "25%              32.677500                12.527500                 25.390000   \n",
       "50%              55.175000                24.930000                 49.635000   \n",
       "75%              77.582500                37.470000                 74.825000   \n",
       "max              99.990000                49.990000                 99.990000   \n",
       "\n",
       "       soil_health_index  economic_impact_million_usd  \n",
       "count       10000.000000                 10000.000000  \n",
       "mean           64.901278                   674.269658  \n",
       "std            20.195882                   414.591431  \n",
       "min            30.000000                    47.840000  \n",
       "25%            47.235000                   350.545000  \n",
       "50%            64.650000                   583.920000  \n",
       "75%            82.472500                   917.505000  \n",
       "max           100.000000                  2346.470000  "
      ]
     },
     "execution_count": 61,
     "metadata": {},
     "output_type": "execute_result"
    }
   ],
   "source": [
    "# Display descriptive statistics for all numerical columns\n",
    "df.describe()"
   ]
  },
  {
   "cell_type": "markdown",
   "id": "2b76e04e-bdc0-4164-85e4-0a4396c5967d",
   "metadata": {},
   "source": [
    "# Export the dataset"
   ]
  },
  {
   "cell_type": "code",
   "execution_count": 70,
   "id": "bdd4953d-e75c-481e-b039-da188bed6e84",
   "metadata": {},
   "outputs": [],
   "source": [
    "# Export the dataset as “cleaned.csv” \n",
    "df.to_csv(os.path.join(path, '02 Data','Prepared Data', 'cleaned.csv'))"
   ]
  }
 ],
 "metadata": {
  "kernelspec": {
   "display_name": "Python [conda env:base] *",
   "language": "python",
   "name": "conda-base-py"
  },
  "language_info": {
   "codemirror_mode": {
    "name": "ipython",
    "version": 3
   },
   "file_extension": ".py",
   "mimetype": "text/x-python",
   "name": "python",
   "nbconvert_exporter": "python",
   "pygments_lexer": "ipython3",
   "version": "3.12.7"
  }
 },
 "nbformat": 4,
 "nbformat_minor": 5
}
